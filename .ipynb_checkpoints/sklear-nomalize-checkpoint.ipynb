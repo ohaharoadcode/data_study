{
 "cells": [
  {
   "cell_type": "markdown",
   "metadata": {},
   "source": [
    "# skilearn"
   ]
  },
  {
   "cell_type": "code",
   "execution_count": 2,
   "metadata": {},
   "outputs": [
    {
     "data": {
      "text/plain": [
       "'1.15.3'"
      ]
     },
     "execution_count": 2,
     "metadata": {},
     "output_type": "execute_result"
    }
   ],
   "source": [
    "import sklearn\n",
    "import numpy as np\n",
    "np.__version__"
   ]
  },
  {
   "cell_type": "markdown",
   "metadata": {},
   "source": [
    "### 1.归一化"
   ]
  },
  {
   "cell_type": "markdown",
   "metadata": {},
   "source": [
    "#### （1）最大最小值归一化"
   ]
  },
  {
   "cell_type": "markdown",
   "metadata": {},
   "source": [
    " #### sklearn.preprocessing.MinMaxScaler(feature_range=(0, 1), copy=True)\n"
   ]
  },
  {
   "cell_type": "markdown",
   "metadata": {},
   "source": [
    " ##### 参数Parameters：\n",
    " feature_range:规定归一化的方位，默认为[0,1]\n",
    " \n",
    "copy:布尔型，默认为True "
   ]
  },
  {
   "cell_type": "markdown",
   "metadata": {},
   "source": [
    "#### 属性\n",
    "\n",
    "min_ ：narray类型，每个特征的最小调整（即  -min*scale_ ）\n",
    "\n",
    "scale_ : narray型，每个特征数据的相对缩放,即缩放的分母。此处为 1/（max-min）\n",
    "\n",
    "data_min_ ：数据中显示的每个特征的最小值\n",
    "\n",
    "data_max_ ：数据中显示的每个特征的最大值\n",
    "\n",
    "\n",
    "data_range_ : 数据中看到的每个特征范围(data_max_-data_min_)\n"
   ]
  },
  {
   "cell_type": "markdown",
   "metadata": {},
   "source": [
    "#### 方法\n",
    "\n",
    "fit(x[,y]) ： 计算用于缩放的最大最小值(将数据装填入估计器)\n",
    "\n",
    "transform(X)\t根据feature_range来对x进行缩放\n",
    "\n",
    "fit_transform(X[, y]) ：调用fit，然后转换数据(相当于fit和transform两个方法的组合)\n",
    "\n",
    "get_params([deep]) ： 获取此估计器的参数\n",
    "\n",
    "inverse_transform(X) ：\t撤销对X的缩放（根据feature_range来还原）\n",
    "\n",
    "partial_fit(X[, y])\t ： 在线计算x的最大最小值，供以后缩放使用\n",
    "\n",
    "set_params(**params) ： 设置此估计器的参数\n",
    "\n"
   ]
  },
  {
   "cell_type": "code",
   "execution_count": 21,
   "metadata": {},
   "outputs": [
    {
     "name": "stdout",
     "output_type": "stream",
     "text": [
      "[[2 3]\n",
      " [4 5]\n",
      " [6 7]]\n",
      "[[0.  0. ]\n",
      " [0.5 0.5]\n",
      " [1.  1. ]]\n",
      "MinMaxScaler(copy=True, feature_range=(0, 1))\n",
      "[-0.5  -0.75]\n",
      "[6. 7.]\n",
      "[4. 4.]\n",
      "[0.25 0.25]\n"
     ]
    },
    {
     "name": "stderr",
     "output_type": "stream",
     "text": [
      "c:\\users\\administrator\\appdata\\local\\programs\\python\\python36\\lib\\site-packages\\sklearn\\utils\\validation.py:595: DataConversionWarning: Data with input dtype int32 was converted to float64 by MinMaxScaler.\n",
      "  warnings.warn(msg, DataConversionWarning)\n",
      "c:\\users\\administrator\\appdata\\local\\programs\\python\\python36\\lib\\site-packages\\sklearn\\utils\\validation.py:595: DataConversionWarning: Data with input dtype int32 was converted to float64 by MinMaxScaler.\n",
      "  warnings.warn(msg, DataConversionWarning)\n"
     ]
    }
   ],
   "source": [
    "from sklearn.preprocessing import MinMaxScaler\n",
    "import numpy as np\n",
    "data = np.arange(2,8).reshape(3,2)  #一行相当于一个输入x，2列即2个特征\n",
    "print(data)\n",
    "scale=MinMaxScaler(feature_range=(0,1))  #实例化估计器\n",
    "print(scale.fit_transform(data))\n",
    "print(scale.fit(data))\n",
    "print(scale.min_)\n",
    "print(scale.data_max_)\n",
    "print(scale.data_range_)\n",
    "print(scale.scale_)\n"
   ]
  },
  {
   "cell_type": "markdown",
   "metadata": {},
   "source": [
    "#### （2）0均值归一化"
   ]
  },
  {
   "cell_type": "markdown",
   "metadata": {},
   "source": [
    "#### sklearn.preprocessing.StandardScaler(copy=True, with_mean=True, with_std=True)\n"
   ]
  },
  {
   "cell_type": "markdown",
   "metadata": {},
   "source": [
    "参数：\n",
    "\n",
    "with_mean : 布尔型，默认为真。如果为真，则在缩放之前对数据进行居中。这在稀疏矩阵上尝试时不起作用(并且会引发异常)，因为以它们为中心需要构建一个密集矩阵，而在一般用例中，该矩阵可能太大，无法在内存中使用。\n",
    "\n",
    "with_std: 布尔型，默认为真。如果为真，则将数据缩放为单位方差(或等效的单位标准差)。"
   ]
  },
  {
   "cell_type": "markdown",
   "metadata": {},
   "source": [
    "属性：\n",
    "与最大最小值归一化相同，单计算方法不同\n"
   ]
  },
  {
   "cell_type": "markdown",
   "metadata": {},
   "source": [
    "方法：\n",
    "与最大最小归一化相同"
   ]
  }
 ],
 "metadata": {
  "kernelspec": {
   "display_name": "Python 3",
   "language": "python",
   "name": "python3"
  },
  "language_info": {
   "codemirror_mode": {
    "name": "ipython",
    "version": 3
   },
   "file_extension": ".py",
   "mimetype": "text/x-python",
   "name": "python",
   "nbconvert_exporter": "python",
   "pygments_lexer": "ipython3",
   "version": "3.6.0"
  }
 },
 "nbformat": 4,
 "nbformat_minor": 2
}
